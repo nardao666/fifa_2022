{
 "cells": [
  {
   "cell_type": "code",
   "execution_count": 3,
   "metadata": {},
   "outputs": [
    {
     "name": "stderr",
     "output_type": "stream",
     "text": [
      "c:\\Python310\\lib\\site-packages\\tqdm\\auto.py:22: TqdmWarning: IProgress not found. Please update jupyter and ipywidgets. See https://ipywidgets.readthedocs.io/en/stable/user_install.html\n",
      "  from .autonotebook import tqdm as notebook_tqdm\n"
     ]
    }
   ],
   "source": [
    "import pandas as pd\n",
    "from pandas_profiling import ProfileReport"
   ]
  },
  {
   "cell_type": "code",
   "execution_count": 5,
   "metadata": {},
   "outputs": [
    {
     "name": "stderr",
     "output_type": "stream",
     "text": [
      "Enabling notebook extension jupyter-js-widgets/extension...\n",
      "      - Validating: ok\n"
     ]
    }
   ],
   "source": [
    "!jupyter nbextension enable --py widgetsnbextension"
   ]
  },
  {
   "cell_type": "code",
   "execution_count": 6,
   "metadata": {},
   "outputs": [],
   "source": [
    "df = pd.read_csv(r'C:\\Users\\leonardoaag\\Desktop\\project_ds\\fifa_2022\\data\\international_matches.csv')"
   ]
  },
  {
   "cell_type": "code",
   "execution_count": 11,
   "metadata": {},
   "outputs": [],
   "source": [
    "profile = ProfileReport(df)"
   ]
  },
  {
   "cell_type": "code",
   "execution_count": 12,
   "metadata": {},
   "outputs": [
    {
     "name": "stderr",
     "output_type": "stream",
     "text": [
      "Summarize dataset: 100%|██████████| 236/236 [00:31<00:00,  7.56it/s, Completed]                                                           \n",
      "Generate report structure: 100%|██████████| 1/1 [00:06<00:00,  6.11s/it]\n",
      "Render HTML: 100%|██████████| 1/1 [00:05<00:00,  5.40s/it]\n",
      "Export report to file: 100%|██████████| 1/1 [00:00<00:00, 21.32it/s]\n"
     ]
    }
   ],
   "source": [
    "profile.to_file(output_file='output.html')"
   ]
  },
  {
   "cell_type": "markdown",
   "metadata": {},
   "source": [
    "# DATACLEAN"
   ]
  },
  {
   "cell_type": "code",
   "execution_count": 13,
   "metadata": {},
   "outputs": [],
   "source": [
    "df_data_split = df['date'].apply([\n",
    "    lambda x: x.split('-')[0],\n",
    "    lambda x: x.split('-')[1],\n",
    "    lambda x: x.split('-')[2]]\n",
    ")\n",
    "df['year'] = df_data_split.iloc[:,:1]\n",
    "df['month'] = df_data_split.iloc[:,1:2]\n",
    "df['day'] = df_data_split.iloc[:,2:3]"
   ]
  },
  {
   "cell_type": "code",
   "execution_count": 14,
   "metadata": {},
   "outputs": [],
   "source": [
    "df = df.reindex(columns=[\n",
    "       'date', 'year', 'month', 'day', 'home_team', 'away_team',\n",
    "       'home_team_continent', 'away_team_continent', 'home_team_fifa_rank', 'away_team_fifa_rank',\n",
    "       'home_team_total_fifa_points', 'away_team_total_fifa_points', 'home_team_score', 'away_team_score',\n",
    "       'tournament', 'city', 'country', 'neutral_location', 'shoot_out', 'home_team_result',\n",
    "       'home_team_goalkeeper_score', 'away_team_goalkeeper_score', 'home_team_mean_defense_score',\n",
    "       'away_team_mean_defense_score', 'home_team_mean_midfield_score', 'away_team_mean_midfield_score',\n",
    "       'home_team_mean_offense_score', 'away_team_mean_offense_score', \n",
    "])"
   ]
  },
  {
   "cell_type": "code",
   "execution_count": 15,
   "metadata": {},
   "outputs": [
    {
     "data": {
      "text/plain": [
       "object     13\n",
       "float64     8\n",
       "int64       6\n",
       "bool        1\n",
       "dtype: int64"
      ]
     },
     "execution_count": 15,
     "metadata": {},
     "output_type": "execute_result"
    }
   ],
   "source": [
    "df.dtypes.value_counts()"
   ]
  },
  {
   "cell_type": "code",
   "execution_count": 16,
   "metadata": {},
   "outputs": [],
   "source": [
    "df = df.apply(lambda x: x.str.lower() if x.dtype == \"object\" else x)"
   ]
  },
  {
   "cell_type": "code",
   "execution_count": 17,
   "metadata": {},
   "outputs": [],
   "source": [
    "prof = ProfileReport(df)"
   ]
  },
  {
   "cell_type": "code",
   "execution_count": 18,
   "metadata": {},
   "outputs": [
    {
     "name": "stderr",
     "output_type": "stream",
     "text": [
      "Summarize dataset: 100%|██████████| 332/332 [00:54<00:00,  6.10it/s, Completed]                                                           \n",
      "Generate report structure: 100%|██████████| 1/1 [00:07<00:00,  7.16s/it]\n",
      "Render HTML: 100%|██████████| 1/1 [00:07<00:00,  8.00s/it]\n",
      "Export report to file: 100%|██████████| 1/1 [00:00<00:00,  9.95it/s]\n"
     ]
    }
   ],
   "source": [
    "prof.to_file(output_file='dataclean_output.html')"
   ]
  }
 ],
 "metadata": {
  "kernelspec": {
   "display_name": "Python 3.10.6 64-bit",
   "language": "python",
   "name": "python3"
  },
  "language_info": {
   "codemirror_mode": {
    "name": "ipython",
    "version": 3
   },
   "file_extension": ".py",
   "mimetype": "text/x-python",
   "name": "python",
   "nbconvert_exporter": "python",
   "pygments_lexer": "ipython3",
   "version": "3.10.6"
  },
  "orig_nbformat": 4,
  "vscode": {
   "interpreter": {
    "hash": "369f2c481f4da34e4445cda3fffd2e751bd1c4d706f27375911949ba6bb62e1c"
   }
  }
 },
 "nbformat": 4,
 "nbformat_minor": 2
}
